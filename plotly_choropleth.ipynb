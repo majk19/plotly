{
 "cells": [
  {
   "cell_type": "code",
   "execution_count": null,
   "id": "dd382442",
   "metadata": {},
   "outputs": [],
   "source": [
    "mport pandas as pd\n",
    "import geopandas as gpd\n",
    "import plotly.express as px\n",
    "#kaleido\n",
    "\n",
    "\n",
    "woj = gpd.read_file('https://raw.githubusercontent.com/ppatrzyk/polska-geojson/master/wojewodztwa/wojewodztwa-min.geojson')\n",
    "woj=woj.set_index('nazwa')\n",
    "df=pd.read_csv('wynagrodzenie.csv',delimiter=\";\")\n",
    "df=df.rename(columns={df.columns[2]:'kwota'})\n",
    "df=df.rename(columns={'Nazwa':'nazwa'})\n",
    "df.drop(df.columns[0], axis=1,inplace=True)\n",
    "df.drop(df.columns[2], axis=1,inplace=True)\n",
    "df[\"nazwa\"]=df['nazwa'].str.lower()\n",
    "df['kwota'] = df['kwota'].str.replace(',', '.').astype(float)\n",
    "\n",
    "\n",
    "mapa = px.choropleth(data_frame=df, geojson=woj, locations=\"nazwa\",color=\"kwota\",color_continuous_scale=\"reds\", projection=\"mercator\")\n",
    "mapa.update_geos(fitbounds=\"locations\", visible=False)\n",
    "mapa.show()\n",
    "mapa.write_image(\"mapa.jpeg\")"
   ]
  }
 ],
 "metadata": {
  "kernelspec": {
   "display_name": "Python 3",
   "language": "python",
   "name": "python3"
  },
  "language_info": {
   "codemirror_mode": {
    "name": "ipython",
    "version": 3
   },
   "file_extension": ".py",
   "mimetype": "text/x-python",
   "name": "python",
   "nbconvert_exporter": "python",
   "pygments_lexer": "ipython3",
   "version": "3.8.8"
  }
 },
 "nbformat": 4,
 "nbformat_minor": 5
}
